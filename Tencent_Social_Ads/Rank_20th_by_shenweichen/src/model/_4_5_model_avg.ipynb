{
 "cells": [
  {
   "cell_type": "code",
   "execution_count": null,
   "metadata": {
    "collapsed": false
   },
   "outputs": [],
   "source": [
    "import pandas as pd"
   ]
  },
  {
   "cell_type": "code",
   "execution_count": null,
   "metadata": {
    "collapsed": true
   },
   "outputs": [],
   "source": [
    "ffm = pd.read_csv('../result/submission_ffm.csv')\n",
    "lgb = pd.read_csv('../result/submission_lgb.csv')# lgb 4 5 + hhy:lgb 4   lgb_5*0.6 + lgb_4_hhy*0.3 +lgb_4*0.1\n",
    "mlp = pd.read_csv('../result/submission_mlp.csv')\n",
    "xgb = pd.read_csv('../result/submission_xgb.csv')#xgb_5*0.6 + xgb_4*0.4\n",
    "\n",
    "result = pd.read_csv('../result/demo_result.csv')\n",
    "result['prob'] = lgb['prob']*0.4 + xgb['prob']*0.4 + ffm['prob']*0.15 + mlp['prob']*0.05\n",
    "\n",
    "\n",
    "result.to_csv('../result/submission_final.csv',)"
   ]
  }
 ],
 "metadata": {
  "kernelspec": {
   "display_name": "Python 3",
   "language": "python",
   "name": "python3"
  },
  "language_info": {
   "codemirror_mode": {
    "name": "ipython",
    "version": 3
   },
   "file_extension": ".py",
   "mimetype": "text/x-python",
   "name": "python",
   "nbconvert_exporter": "python",
   "pygments_lexer": "ipython3",
   "version": "3.6.0"
  }
 },
 "nbformat": 4,
 "nbformat_minor": 2
}
