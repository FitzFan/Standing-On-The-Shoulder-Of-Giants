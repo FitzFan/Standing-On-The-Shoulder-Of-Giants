{
 "cells": [
  {
   "cell_type": "code",
   "execution_count": 1,
   "metadata": {
    "collapsed": false
   },
   "outputs": [
    {
     "name": "stderr",
     "output_type": "stream",
     "text": [
      "Using TensorFlow backend.\n"
     ]
    }
   ],
   "source": [
    "import pandas as pd\n",
    "import numpy as np\n",
    "from scipy import sparse as ssp\n",
    "from sklearn.model_selection import KFold\n",
    "from keras.preprocessing.text import one_hot\n",
    "from keras.preprocessing.sequence import pad_sequences\n",
    "from keras.layers import Input, Embedding, LSTM, Dense,Flatten, Dropout, merge,Convolution1D,MaxPooling1D,Lambda\n",
    "from keras.layers.advanced_activations import PReLU,LeakyReLU,ELU\n",
    "from keras.models import Model\n",
    "from keras.layers.normalization import BatchNormalization\n",
    "import h5py\n",
    "import os\n",
    "from sklearn.preprocessing import StandardScaler\n",
    "from keras.callbacks import EarlyStopping, ModelCheckpoint\n",
    "from utils import result_path\n",
    "from _3_0_gen_final_data import gen_offline_data,gen_online_data"
   ]
  },
  {
   "cell_type": "code",
   "execution_count": 2,
   "metadata": {
    "collapsed": true
   },
   "outputs": [],
   "source": [
    "os.environ[\"CUDA_DEVICE_ORDER\"] = \"PCI_BUS_ID\"\n",
    "os.environ[\"CUDA_VISIBLE_DEVICES\"] = \"2\""
   ]
  },
  {
   "cell_type": "code",
   "execution_count": null,
   "metadata": {
    "collapsed": true
   },
   "outputs": [],
   "source": [
    "train,test= gen_online_data(25,29,31)"
   ]
  },
  {
   "cell_type": "code",
   "execution_count": 4,
   "metadata": {
    "collapsed": true
   },
   "outputs": [],
   "source": [
    "feature_names = [#'creativeID', 'userID',\n",
    "       'positionID', 'connectionType', 'telecomsOperator', 'age', 'gender',\n",
    "       'education', 'marriageStatus', 'haveBaby', 'ht_province',\n",
    "       'rd_province', 'sitesetID', 'positionType', 'adID',\n",
    "       'camgaignID', 'advertiserID', 'appID', 'appPlatform',\n",
    "     # 'user_start_install_cate_0',\n",
    "                 'user_start_install_cate_1',\n",
    "       'user_start_install_cate_2', 'user_start_install_cate_3',\n",
    "       'user_start_install_cate_4', 'user_start_install_cate_5',\n",
    "                 \n",
    "       'appCategory', 'trick', 'first_diff', 'last_diff', 'user_hist_install', 'clickHour',\n",
    "        'user_adID_click_day', 'user_adID_click_hour',\n",
    "       'user_camgaignID_click_day', 'user_camgaignID_click_hour',\n",
    "       'user_appID_click_day', 'user_appID_click_hour',\n",
    "\n",
    "                 \n",
    "                 'user_sitesetID_click_day',\n",
    "       'user_sitesetID_click_hour', 'user_click_day',\n",
    "                 \n",
    "        'positionID_cvr_smooth','creativeID_cvr','userID_cvr','adID_cvr','appID_cvr',\n",
    "     'positionID_sum_count', 'creativeID_sum_count', 'appID_sum_count',\n",
    "       'adID_sum_count', 'userID_sum_count',\n",
    "        'user_ad_click_day_mean', 'user_ad_click_day_min',\n",
    "       'user_camgaign_click_day_min', 'user_app_click_day_mean',\n",
    "       'user_app_click_day_max', 'user_app_click_day_min',\n",
    "       'user_site_click_day_mean', 'user_site_click_day_max',\n",
    "       'user_site_click_day_min', 'user_click_day_mean', 'user_click_day_max','user_click_day_min',\n",
    "        'advertiserID_user_clicks_age_cut_0',\n",
    "       'advertiserID_user_clicks_age_cut_1',\n",
    "       'advertiserID_user_clicks_age_cut_2',\n",
    "       'advertiserID_user_clicks_age_cut_3',\n",
    "       'advertiserID_user_clicks_age_cut_4',\n",
    "       'advertiserID_user_clicks_age_cut_5',\n",
    "       'advertiserID_user_clicks_age_cut_6',\n",
    "      'advertiserID_user_clicks_age_cut_7',\n",
    "       'advertiserID_user_clicks_gender_0',\n",
    "       'advertiserID_user_clicks_gender_1',\n",
    "       'advertiserID_user_clicks_gender_2',\n",
    "       'advertiserID_user_clicks_education_0',\n",
    "       'advertiserID_user_clicks_education_1',\n",
    "       'advertiserID_user_clicks_education_2',\n",
    "       'advertiserID_user_clicks_education_3',\n",
    "       'advertiserID_user_clicks_education_4',\n",
    "       'advertiserID_user_clicks_education_5',\n",
    "       'advertiserID_user_clicks_education_6',\n",
    "       'advertiserID_user_clicks_education_7',\n",
    "       'advertiserID_user_clicks_marriageStatus_0',\n",
    "       'advertiserID_user_clicks_marriageStatus_1',\n",
    "       'advertiserID_user_clicks_marriageStatus_2',\n",
    "       'advertiserID_user_clicks_marriageStatus_3',\n",
    "        \n",
    "       'appID_user_clicks_age_cut_0', 'appID_user_clicks_age_cut_1',\n",
    "       'appID_user_clicks_age_cut_2', 'appID_user_clicks_age_cut_3',\n",
    "       'appID_user_clicks_age_cut_4', 'appID_user_clicks_age_cut_5',\n",
    "       'appID_user_clicks_age_cut_6', 'appID_user_clicks_age_cut_7',\n",
    "       'appID_user_clicks_gender_0', 'appID_user_clicks_gender_1',\n",
    "       'appID_user_clicks_gender_2', 'appID_user_clicks_education_0',\n",
    "       'appID_user_clicks_education_1', 'appID_user_clicks_education_2',\n",
    "       'appID_user_clicks_education_3', 'appID_user_clicks_education_4',\n",
    "       'appID_user_clicks_education_5', 'appID_user_clicks_education_6',\n",
    "       'appID_user_clicks_education_7', 'appID_user_clicks_marriageStatus_0',\n",
    "       'appID_user_clicks_marriageStatus_1',\n",
    "       'appID_user_clicks_marriageStatus_2',\n",
    "       'appID_user_clicks_marriageStatus_3', \n",
    "                 'appID_user_clicks_haveBaby_0',\n",
    "       'appID_user_clicks_haveBaby_1', 'appID_user_clicks_haveBaby_2',\n",
    "       'appID_user_clicks_haveBaby_3', 'appID_user_clicks_haveBaby_4',\n",
    "       'appID_user_clicks_haveBaby_5', 'appID_user_clicks_haveBaby_6','install2click']\n"
   ]
  },
  {
   "cell_type": "code",
   "execution_count": 19,
   "metadata": {
    "collapsed": false
   },
   "outputs": [
    {
     "data": {
      "text/plain": [
       "151"
      ]
     },
     "execution_count": 19,
     "metadata": {},
     "output_type": "execute_result"
    }
   ],
   "source": [
    "import gc\n",
    "gc.collect()"
   ]
  },
  {
   "cell_type": "code",
   "execution_count": null,
   "metadata": {
    "collapsed": false,
    "scrolled": true
   },
   "outputs": [],
   "source": [
    "X_train = train[feature_names].fillna(0).values\n",
    "X_test = test[feature_names].fillna(0).values\n",
    "y = train['label'].values\n",
    "y_test = test['label'].values\n",
    "del train,test"
   ]
  },
  {
   "cell_type": "code",
   "execution_count": 22,
   "metadata": {
    "collapsed": false
   },
   "outputs": [
    {
     "name": "stdout",
     "output_type": "stream",
     "text": [
      "(11947463, 114) (3321748, 114)\n"
     ]
    }
   ],
   "source": [
    "print(X_train.shape,X_test.shape)"
   ]
  },
  {
   "cell_type": "code",
   "execution_count": 23,
   "metadata": {
    "collapsed": false
   },
   "outputs": [],
   "source": [
    "from sklearn.preprocessing import StandardScaler,MinMaxScaler\n",
    "st = MinMaxScaler()\n",
    "st.fit(X_train)\n",
    "X_train = st.transform(X_train)\n",
    "X_test = st.transform(X_test)"
   ]
  },
  {
   "cell_type": "code",
   "execution_count": 24,
   "metadata": {
    "collapsed": true
   },
   "outputs": [],
   "source": [
    "def MLP(opt='nadam'):\n",
    "    X_raw = Input(shape=(X_train.shape[1],), name='input_raw')\n",
    "\n",
    "    fc1 = BatchNormalization()(X_raw)\n",
    "    fc1 = Dense(512)(fc1)\n",
    "    fc1 = PReLU()(fc1)\n",
    "    fc1 = Dropout(0.25)(fc1)\n",
    "\n",
    "    fc1 = BatchNormalization()(fc1)\n",
    "    fc1 = Dense(256)(fc1)\n",
    "    fc1 = PReLU()(fc1)\n",
    "    fc1 = Dropout(0.15)(fc1)\n",
    "\n",
    "    fc1 = BatchNormalization()(fc1)\n",
    "    auxiliary_output_dense = Dense(1, activation='sigmoid', name='aux_output_dense')(fc1)\n",
    "\n",
    "    output_all = Dense(1, activation='sigmoid', name='output')(fc1)\n",
    "    model = Model(input=X_raw, output=output_all)\n",
    "    model.compile(\n",
    "        optimizer=opt,\n",
    "        loss='binary_crossentropy')\n",
    "    return model"
   ]
  },
  {
   "cell_type": "code",
   "execution_count": 25,
   "metadata": {
    "collapsed": false,
    "scrolled": true
   },
   "outputs": [
    {
     "name": "stderr",
     "output_type": "stream",
     "text": [
      "/home/shenweichen/anaconda3/lib/python3.6/site-packages/ipykernel/__main__.py:18: UserWarning: Update your `Model` call to the Keras 2 API: `Model(inputs=Tensor(\"in..., outputs=Tensor(\"ou...)`\n",
      "/home/shenweichen/anaconda3/lib/python3.6/site-packages/ipykernel/__main__.py:5: UserWarning: The `nb_epoch` argument in `fit` has been renamed `epochs`.\n"
     ]
    },
    {
     "name": "stdout",
     "output_type": "stream",
     "text": [
      "Train on 11947463 samples, validate on 11947463 samples\n",
      "Epoch 1/14\n",
      "181s - loss: 0.1060 - val_loss: 0.1019\n",
      "Epoch 2/14\n",
      "181s - loss: 0.1021 - val_loss: 0.1011\n",
      "Epoch 3/14\n",
      "182s - loss: 0.1016 - val_loss: 0.1007\n",
      "Epoch 4/14\n",
      "182s - loss: 0.1014 - val_loss: 0.1005\n",
      "Epoch 5/14\n",
      "179s - loss: 0.1012 - val_loss: 0.1004\n",
      "Epoch 6/14\n",
      "179s - loss: 0.1010 - val_loss: 0.1002\n",
      "Epoch 7/14\n",
      "179s - loss: 0.1009 - val_loss: 0.1004\n",
      "Epoch 8/14\n",
      "178s - loss: 0.1008 - val_loss: 0.1000\n",
      "Epoch 9/14\n",
      "180s - loss: 0.1007 - val_loss: 0.0998\n",
      "Epoch 10/14\n",
      "178s - loss: 0.1006 - val_loss: 0.0997\n",
      "Epoch 11/14\n",
      "181s - loss: 0.1005 - val_loss: 0.0995\n",
      "Epoch 12/14\n",
      "180s - loss: 0.1005 - val_loss: 0.0995\n",
      "Epoch 13/14\n",
      "183s - loss: 0.1004 - val_loss: 0.0998\n",
      "Epoch 14/14\n",
      "180s - loss: 0.1003 - val_loss: 0.0995\n",
      "0.0233404\n"
     ]
    }
   ],
   "source": [
    "model_mlp=MLP()\n",
    "#model_name = 'mlp.hdf5'\n",
    "#model_checkpoint = ModelCheckpoint(path+model_name, monitor='val_loss', save_best_only=True,mode='min')\n",
    "model_mlp.fit(X_train,y,batch_size=1024,nb_epoch=14,verbose=2,\n",
    "   validation_data=[X_train,y],shuffle=True)\n",
    "res=model_mlp.predict(X_test,batch_size=1024)\n",
    "print(np.mean(res))"
   ]
  },
  {
   "cell_type": "code",
   "execution_count": 9,
   "metadata": {
    "collapsed": false
   },
   "outputs": [],
   "source": [
    "early_stopping = EarlyStopping(monitor='val_loss', patience=3)"
   ]
  },
  {
   "cell_type": "code",
   "execution_count": 11,
   "metadata": {
    "collapsed": false,
    "scrolled": true
   },
   "outputs": [
    {
     "name": "stderr",
     "output_type": "stream",
     "text": [
      "/home/shenweichen/anaconda3/lib/python3.6/site-packages/ipykernel/__main__.py:18: UserWarning: Update your `Model` call to the Keras 2 API: `Model(inputs=Tensor(\"in..., outputs=Tensor(\"ou...)`\n",
      "/home/shenweichen/anaconda3/lib/python3.6/site-packages/ipykernel/__main__.py:6: UserWarning: The `nb_epoch` argument in `fit` has been renamed `epochs`.\n"
     ]
    },
    {
     "name": "stdout",
     "output_type": "stream",
     "text": [
      "Train on 10602212 samples, validate on 3023595 samples\n",
      "Epoch 1/25\n",
      "142s - loss: 0.1049 - val_loss: 0.1030\n",
      "Epoch 2/25\n",
      "144s - loss: 0.1006 - val_loss: 0.1023\n",
      "Epoch 3/25\n",
      "142s - loss: 0.1001 - val_loss: 0.1023\n",
      "Epoch 4/25\n",
      "141s - loss: 0.0998 - val_loss: 0.1019\n",
      "Epoch 5/25\n",
      "137s - loss: 0.0997 - val_loss: 0.1016\n",
      "Epoch 6/25\n",
      "139s - loss: 0.0995 - val_loss: 0.1018\n",
      "Epoch 7/25\n",
      "138s - loss: 0.0994 - val_loss: 0.1014\n",
      "Epoch 8/25\n",
      "136s - loss: 0.0993 - val_loss: 0.1012\n",
      "Epoch 9/25\n",
      "137s - loss: 0.0992 - val_loss: 0.1011\n",
      "Epoch 10/25\n",
      "136s - loss: 0.0991 - val_loss: 0.1010\n",
      "Epoch 11/25\n",
      "135s - loss: 0.0990 - val_loss: 0.1011\n",
      "Epoch 12/25\n",
      "133s - loss: 0.0989 - val_loss: 0.1013\n",
      "Epoch 13/25\n",
      "136s - loss: 0.0989 - val_loss: 0.1013\n",
      "Epoch 14/25\n",
      "136s - loss: 0.0988 - val_loss: 0.1010\n",
      "0.0256708\n"
     ]
    }
   ],
   "source": [
    "\n",
    "model_mlp=MLP()\n",
    "#model_name = 'mlp.hdf5'\n",
    "#model_checkpoint = ModelCheckpoint(path+model_name, monitor='val_loss', save_best_only=True,mode='min')\n",
    "model_mlp.fit(X_train,y,batch_size=1024,nb_epoch=25,verbose=2,\n",
    "   validation_data=[X_test,y_test],shuffle=True,callbacks=[early_stopping])\n",
    "res=model_mlp.predict(X_test,batch_size=1024)\n",
    "print(np.mean(res))"
   ]
  },
  {
   "cell_type": "code",
   "execution_count": 21,
   "metadata": {
    "collapsed": false
   },
   "outputs": [],
   "source": [
    "pd.to_pickle(res,'./res/mlp_submission_6_28_offline.pkl')"
   ]
  },
  {
   "cell_type": "code",
   "execution_count": 19,
   "metadata": {
    "collapsed": true
   },
   "outputs": [
    {
     "ename": "ValueError",
     "evalue": "Length of values does not match length of index",
     "output_type": "error",
     "traceback": [
      "\u001b[0;31m---------------------------------------------------------------------------\u001b[0m",
      "\u001b[0;31mValueError\u001b[0m                                Traceback (most recent call last)",
      "\u001b[0;32m<ipython-input-19-4decba50d77b>\u001b[0m in \u001b[0;36m<module>\u001b[0;34m()\u001b[0m\n\u001b[1;32m      1\u001b[0m \u001b[0mresult\u001b[0m \u001b[0;34m=\u001b[0m \u001b[0mpd\u001b[0m\u001b[0;34m.\u001b[0m\u001b[0mread_csv\u001b[0m\u001b[0;34m(\u001b[0m\u001b[0;34m'../result/demo_result.csv'\u001b[0m\u001b[0;34m,\u001b[0m\u001b[0mindex_col\u001b[0m\u001b[0;34m=\u001b[0m\u001b[0;34m[\u001b[0m\u001b[0;34m'instanceID'\u001b[0m\u001b[0;34m]\u001b[0m\u001b[0;34m)\u001b[0m\u001b[0;34m\u001b[0m\u001b[0m\n\u001b[0;32m----> 2\u001b[0;31m \u001b[0mresult\u001b[0m\u001b[0;34m[\u001b[0m\u001b[0;34m'prob'\u001b[0m\u001b[0;34m]\u001b[0m \u001b[0;34m=\u001b[0m \u001b[0mres\u001b[0m\u001b[0;34m\u001b[0m\u001b[0m\n\u001b[0m",
      "\u001b[0;32m/home/shenweichen/anaconda3/lib/python3.6/site-packages/pandas/core/frame.py\u001b[0m in \u001b[0;36m__setitem__\u001b[0;34m(self, key, value)\u001b[0m\n\u001b[1;32m   2417\u001b[0m         \u001b[0;32melse\u001b[0m\u001b[0;34m:\u001b[0m\u001b[0;34m\u001b[0m\u001b[0m\n\u001b[1;32m   2418\u001b[0m             \u001b[0;31m# set column\u001b[0m\u001b[0;34m\u001b[0m\u001b[0;34m\u001b[0m\u001b[0m\n\u001b[0;32m-> 2419\u001b[0;31m             \u001b[0mself\u001b[0m\u001b[0;34m.\u001b[0m\u001b[0m_set_item\u001b[0m\u001b[0;34m(\u001b[0m\u001b[0mkey\u001b[0m\u001b[0;34m,\u001b[0m \u001b[0mvalue\u001b[0m\u001b[0;34m)\u001b[0m\u001b[0;34m\u001b[0m\u001b[0m\n\u001b[0m\u001b[1;32m   2420\u001b[0m \u001b[0;34m\u001b[0m\u001b[0m\n\u001b[1;32m   2421\u001b[0m     \u001b[0;32mdef\u001b[0m \u001b[0m_setitem_slice\u001b[0m\u001b[0;34m(\u001b[0m\u001b[0mself\u001b[0m\u001b[0;34m,\u001b[0m \u001b[0mkey\u001b[0m\u001b[0;34m,\u001b[0m \u001b[0mvalue\u001b[0m\u001b[0;34m)\u001b[0m\u001b[0;34m:\u001b[0m\u001b[0;34m\u001b[0m\u001b[0m\n",
      "\u001b[0;32m/home/shenweichen/anaconda3/lib/python3.6/site-packages/pandas/core/frame.py\u001b[0m in \u001b[0;36m_set_item\u001b[0;34m(self, key, value)\u001b[0m\n\u001b[1;32m   2483\u001b[0m \u001b[0;34m\u001b[0m\u001b[0m\n\u001b[1;32m   2484\u001b[0m         \u001b[0mself\u001b[0m\u001b[0;34m.\u001b[0m\u001b[0m_ensure_valid_index\u001b[0m\u001b[0;34m(\u001b[0m\u001b[0mvalue\u001b[0m\u001b[0;34m)\u001b[0m\u001b[0;34m\u001b[0m\u001b[0m\n\u001b[0;32m-> 2485\u001b[0;31m         \u001b[0mvalue\u001b[0m \u001b[0;34m=\u001b[0m \u001b[0mself\u001b[0m\u001b[0;34m.\u001b[0m\u001b[0m_sanitize_column\u001b[0m\u001b[0;34m(\u001b[0m\u001b[0mkey\u001b[0m\u001b[0;34m,\u001b[0m \u001b[0mvalue\u001b[0m\u001b[0;34m)\u001b[0m\u001b[0;34m\u001b[0m\u001b[0m\n\u001b[0m\u001b[1;32m   2486\u001b[0m         \u001b[0mNDFrame\u001b[0m\u001b[0;34m.\u001b[0m\u001b[0m_set_item\u001b[0m\u001b[0;34m(\u001b[0m\u001b[0mself\u001b[0m\u001b[0;34m,\u001b[0m \u001b[0mkey\u001b[0m\u001b[0;34m,\u001b[0m \u001b[0mvalue\u001b[0m\u001b[0;34m)\u001b[0m\u001b[0;34m\u001b[0m\u001b[0m\n\u001b[1;32m   2487\u001b[0m \u001b[0;34m\u001b[0m\u001b[0m\n",
      "\u001b[0;32m/home/shenweichen/anaconda3/lib/python3.6/site-packages/pandas/core/frame.py\u001b[0m in \u001b[0;36m_sanitize_column\u001b[0;34m(self, key, value, broadcast)\u001b[0m\n\u001b[1;32m   2654\u001b[0m \u001b[0;34m\u001b[0m\u001b[0m\n\u001b[1;32m   2655\u001b[0m             \u001b[0;31m# turn me into an ndarray\u001b[0m\u001b[0;34m\u001b[0m\u001b[0;34m\u001b[0m\u001b[0m\n\u001b[0;32m-> 2656\u001b[0;31m             \u001b[0mvalue\u001b[0m \u001b[0;34m=\u001b[0m \u001b[0m_sanitize_index\u001b[0m\u001b[0;34m(\u001b[0m\u001b[0mvalue\u001b[0m\u001b[0;34m,\u001b[0m \u001b[0mself\u001b[0m\u001b[0;34m.\u001b[0m\u001b[0mindex\u001b[0m\u001b[0;34m,\u001b[0m \u001b[0mcopy\u001b[0m\u001b[0;34m=\u001b[0m\u001b[0;32mFalse\u001b[0m\u001b[0;34m)\u001b[0m\u001b[0;34m\u001b[0m\u001b[0m\n\u001b[0m\u001b[1;32m   2657\u001b[0m             \u001b[0;32mif\u001b[0m \u001b[0;32mnot\u001b[0m \u001b[0misinstance\u001b[0m\u001b[0;34m(\u001b[0m\u001b[0mvalue\u001b[0m\u001b[0;34m,\u001b[0m \u001b[0;34m(\u001b[0m\u001b[0mnp\u001b[0m\u001b[0;34m.\u001b[0m\u001b[0mndarray\u001b[0m\u001b[0;34m,\u001b[0m \u001b[0mIndex\u001b[0m\u001b[0;34m)\u001b[0m\u001b[0;34m)\u001b[0m\u001b[0;34m:\u001b[0m\u001b[0;34m\u001b[0m\u001b[0m\n\u001b[1;32m   2658\u001b[0m                 \u001b[0;32mif\u001b[0m \u001b[0misinstance\u001b[0m\u001b[0;34m(\u001b[0m\u001b[0mvalue\u001b[0m\u001b[0;34m,\u001b[0m \u001b[0mlist\u001b[0m\u001b[0;34m)\u001b[0m \u001b[0;32mand\u001b[0m \u001b[0mlen\u001b[0m\u001b[0;34m(\u001b[0m\u001b[0mvalue\u001b[0m\u001b[0;34m)\u001b[0m \u001b[0;34m>\u001b[0m \u001b[0;36m0\u001b[0m\u001b[0;34m:\u001b[0m\u001b[0;34m\u001b[0m\u001b[0m\n",
      "\u001b[0;32m/home/shenweichen/anaconda3/lib/python3.6/site-packages/pandas/core/series.py\u001b[0m in \u001b[0;36m_sanitize_index\u001b[0;34m(data, index, copy)\u001b[0m\n\u001b[1;32m   2798\u001b[0m \u001b[0;34m\u001b[0m\u001b[0m\n\u001b[1;32m   2799\u001b[0m     \u001b[0;32mif\u001b[0m \u001b[0mlen\u001b[0m\u001b[0;34m(\u001b[0m\u001b[0mdata\u001b[0m\u001b[0;34m)\u001b[0m \u001b[0;34m!=\u001b[0m \u001b[0mlen\u001b[0m\u001b[0;34m(\u001b[0m\u001b[0mindex\u001b[0m\u001b[0;34m)\u001b[0m\u001b[0;34m:\u001b[0m\u001b[0;34m\u001b[0m\u001b[0m\n\u001b[0;32m-> 2800\u001b[0;31m         \u001b[0;32mraise\u001b[0m \u001b[0mValueError\u001b[0m\u001b[0;34m(\u001b[0m\u001b[0;34m'Length of values does not match length of '\u001b[0m \u001b[0;34m'index'\u001b[0m\u001b[0;34m)\u001b[0m\u001b[0;34m\u001b[0m\u001b[0m\n\u001b[0m\u001b[1;32m   2801\u001b[0m \u001b[0;34m\u001b[0m\u001b[0m\n\u001b[1;32m   2802\u001b[0m     \u001b[0;32mif\u001b[0m \u001b[0misinstance\u001b[0m\u001b[0;34m(\u001b[0m\u001b[0mdata\u001b[0m\u001b[0;34m,\u001b[0m \u001b[0mPeriodIndex\u001b[0m\u001b[0;34m)\u001b[0m\u001b[0;34m:\u001b[0m\u001b[0;34m\u001b[0m\u001b[0m\n",
      "\u001b[0;31mValueError\u001b[0m: Length of values does not match length of index"
     ]
    }
   ],
   "source": [
    "result = pd.read_csv('../result/demo_result.csv',index_col=['instanceID'])\n",
    "result['prob'] = res\n"
   ]
  },
  {
   "cell_type": "code",
   "execution_count": null,
   "metadata": {
    "collapsed": true
   },
   "outputs": [],
   "source": [
    "# result['prob'] = result['prob'].apply(adj)\n",
    "result.to_csv('./res/mlp_final_sub.csv')"
   ]
  },
  {
   "cell_type": "code",
   "execution_count": 22,
   "metadata": {
    "collapsed": false
   },
   "outputs": [
    {
     "data": {
      "text/plain": [
       "(3023595, 1)"
      ]
     },
     "execution_count": 22,
     "metadata": {},
     "output_type": "execute_result"
    }
   ],
   "source": [
    "res.shape"
   ]
  },
  {
   "cell_type": "code",
   "execution_count": null,
   "metadata": {
    "collapsed": true
   },
   "outputs": [],
   "source": []
  },
  {
   "cell_type": "code",
   "execution_count": null,
   "metadata": {
    "collapsed": true
   },
   "outputs": [],
   "source": []
  },
  {
   "cell_type": "code",
   "execution_count": 57,
   "metadata": {
    "collapsed": true
   },
   "outputs": [],
   "source": [
    "res=0\n",
    "best_it=10\n",
    "fold=1\n",
    "skf = KFold(n_splits=5, shuffle=True, random_state=1123).split(y)"
   ]
  },
  {
   "cell_type": "code",
   "execution_count": 8,
   "metadata": {
    "collapsed": true
   },
   "outputs": [],
   "source": [
    "def MLP(opt='nadam'):\n",
    "    X_raw = Input(shape=(X_train.shape[1],), name='input_raw')\n",
    "\n",
    "    fc1 = BatchNormalization()(X_raw)\n",
    "    fc1 = Dense(512)(fc1)\n",
    "    fc1 = PReLU()(fc1)\n",
    "    fc1 = Dropout(0.25)(fc1)\n",
    "\n",
    "    fc1 = BatchNormalization()(fc1)\n",
    "    fc1 = Dense(256)(fc1)\n",
    "    fc1 = PReLU()(fc1)\n",
    "    fc1 = Dropout(0.15)(fc1)\n",
    "\n",
    "    fc1 = BatchNormalization()(fc1)\n",
    "    auxiliary_output_dense = Dense(1, activation='sigmoid', name='aux_output_dense')(fc1)\n",
    "\n",
    "    output_all = Dense(1, activation='sigmoid', name='output')(fc1)\n",
    "    model = Model(input=X_raw, output=output_all)\n",
    "    model.compile(\n",
    "        optimizer=opt,\n",
    "        loss='binary_crossentropy')\n",
    "    return model"
   ]
  },
  {
   "cell_type": "code",
   "execution_count": 10,
   "metadata": {
    "collapsed": true
   },
   "outputs": [
    {
     "name": "stderr",
     "output_type": "stream",
     "text": [
      "/home/shenweichen/anaconda3/lib/python3.6/site-packages/ipykernel/__main__.py:18: UserWarning: Update your `Model` call to the Keras 2 API: `Model(inputs=Tensor(\"in..., outputs=Tensor(\"ou...)`\n"
     ]
    },
    {
     "ename": "NameError",
     "evalue": "name 'X_ot_train' is not defined",
     "output_type": "error",
     "traceback": [
      "\u001b[0;31m---------------------------------------------------------------------------\u001b[0m",
      "\u001b[0;31mNameError\u001b[0m                                 Traceback (most recent call last)",
      "\u001b[0;32m<ipython-input-10-0fccdab9a4ac>\u001b[0m in \u001b[0;36m<module>\u001b[0;34m()\u001b[0m\n\u001b[1;32m      2\u001b[0m \u001b[0;31m#model_name = 'mlp.hdf5'\u001b[0m\u001b[0;34m\u001b[0m\u001b[0;34m\u001b[0m\u001b[0m\n\u001b[1;32m      3\u001b[0m \u001b[0;31m#model_checkpoint = ModelCheckpoint(path+model_name, monitor='val_loss', save_best_only=True,mode='min')\u001b[0m\u001b[0;34m\u001b[0m\u001b[0;34m\u001b[0m\u001b[0m\n\u001b[0;32m----> 4\u001b[0;31m model_mlp.fit(X_ot_train,y_train,batch_size=1024,nb_epoch=2,verbose=2,\n\u001b[0m\u001b[1;32m      5\u001b[0m    validation_data=[X_ot_test,y_test],shuffle=True)\n\u001b[1;32m      6\u001b[0m \u001b[0mres\u001b[0m\u001b[0;34m=\u001b[0m\u001b[0mmodel_mlp\u001b[0m\u001b[0;34m.\u001b[0m\u001b[0mpredict\u001b[0m\u001b[0;34m(\u001b[0m\u001b[0mX_test\u001b[0m\u001b[0;34m,\u001b[0m\u001b[0mbatch_size\u001b[0m\u001b[0;34m=\u001b[0m\u001b[0;36m1024\u001b[0m\u001b[0;34m)\u001b[0m\u001b[0;34m\u001b[0m\u001b[0m\n",
      "\u001b[0;31mNameError\u001b[0m: name 'X_ot_train' is not defined"
     ]
    }
   ],
   "source": [
    "model_mlp=MLP()\n",
    "#model_name = 'mlp.hdf5'\n",
    "#model_checkpoint = ModelCheckpoint(path+model_name, monitor='val_loss', save_best_only=True,mode='min')\n",
    "model_mlp.fit(X_ot_train,y_train,batch_size=1024,nb_epoch=2,verbose=2,\n",
    "   validation_data=[X_ot_test,y_test],shuffle=True)\n",
    "res=model_mlp.predict(X_test,batch_size=1024)\n",
    "print(np.mean(tmp_res))"
   ]
  },
  {
   "cell_type": "code",
   "execution_count": null,
   "metadata": {
    "collapsed": true
   },
   "outputs": [],
   "source": [
    "result = pd.read_csv('../result/demo_result.csv',index_col=['instanceID'])\n",
    "result['prob'] = res\n",
    "# result['prob'] = result['prob'].apply(adj)\n",
    "result.to_csv('./res/mlp_submission.csv')"
   ]
  },
  {
   "cell_type": "code",
   "execution_count": 58,
   "metadata": {
    "collapsed": true
   },
   "outputs": [
    {
     "name": "stderr",
     "output_type": "stream",
     "text": [
      "/home/shenweichen/anaconda3/lib/python3.6/site-packages/ipykernel/__main__.py:18: UserWarning: Update your `Model` call to the Keras 2 API: `Model(inputs=Tensor(\"in..., outputs=Tensor(\"ou...)`\n",
      "/home/shenweichen/anaconda3/lib/python3.6/site-packages/ipykernel/__main__.py:12: UserWarning: The `nb_epoch` argument in `fit` has been renamed `epochs`.\n"
     ]
    },
    {
     "name": "stdout",
     "output_type": "stream",
     "text": [
      "Train on 9557970 samples, validate on 2389493 samples\n",
      "Epoch 1/2\n",
      "132s - loss: 0.1069 - val_loss: 0.1020\n",
      "Epoch 2/2\n",
      "127s - loss: 0.1024 - val_loss: 0.1015\n",
      "0.026894\n",
      "end fold:1\n",
      "Train on 9557970 samples, validate on 2389493 samples\n",
      "Epoch 1/2\n",
      "134s - loss: 0.1067 - val_loss: 0.1026\n",
      "Epoch 2/2\n",
      "125s - loss: 0.1022 - val_loss: 0.1019\n",
      "0.0239531\n",
      "end fold:2\n",
      "Train on 9557970 samples, validate on 2389493 samples\n",
      "Epoch 1/2\n",
      "138s - loss: 0.1069 - val_loss: 0.1023\n",
      "Epoch 2/2\n",
      "139s - loss: 0.1024 - val_loss: 0.1016\n",
      "0.0278739\n",
      "end fold:3\n",
      "Train on 9557971 samples, validate on 2389492 samples\n",
      "Epoch 1/2\n",
      "135s - loss: 0.1069 - val_loss: 0.1016\n",
      "Epoch 2/2\n",
      "127s - loss: 0.1025 - val_loss: 0.1012\n",
      "0.0232059\n",
      "end fold:4\n",
      "Train on 9557971 samples, validate on 2389492 samples\n",
      "Epoch 1/2\n",
      "132s - loss: 0.1068 - val_loss: 0.1026\n",
      "Epoch 2/2\n",
      "125s - loss: 0.1023 - val_loss: 0.1019\n",
      "0.0290905\n",
      "end fold:5\n"
     ]
    }
   ],
   "source": [
    "res = 0\n",
    "for ind_tr, ind_te in skf:\n",
    "    X_ot_train = X_train[ind_tr]\n",
    "    X_ot_test=X_train[ind_te]\n",
    "    y_train = y[ind_tr]\n",
    "    y_test = y[ind_te]\n",
    "\n",
    "    model_mlp=MLP()\n",
    "    #model_name = 'mlp.hdf5'\n",
    "    #model_checkpoint = ModelCheckpoint(path+model_name, monitor='val_loss', save_best_only=True,mode='min')\n",
    "    model_mlp.fit(X_ot_train,y_train,batch_size=1024,nb_epoch=2,verbose=2,\n",
    "       validation_data=[X_ot_test,y_test],shuffle=True)\n",
    "    tmp_res=model_mlp.predict(X_test,batch_size=1024)\n",
    "    print(np.mean(tmp_res))\n",
    "    res+=tmp_res\n",
    "    print('end fold:{}'.format(fold))\n",
    "    fold+=1"
   ]
  },
  {
   "cell_type": "code",
   "execution_count": 59,
   "metadata": {
    "collapsed": true
   },
   "outputs": [
    {
     "name": "stdout",
     "output_type": "stream",
     "text": [
      "end bagging\n"
     ]
    },
    {
     "data": {
      "text/html": [
       "<div>\n",
       "<table border=\"1\" class=\"dataframe\">\n",
       "  <thead>\n",
       "    <tr style=\"text-align: right;\">\n",
       "      <th></th>\n",
       "      <th>0</th>\n",
       "    </tr>\n",
       "  </thead>\n",
       "  <tbody>\n",
       "    <tr>\n",
       "      <th>count</th>\n",
       "      <td>3.321748e+06</td>\n",
       "    </tr>\n",
       "    <tr>\n",
       "      <th>mean</th>\n",
       "      <td>2.609698e-02</td>\n",
       "    </tr>\n",
       "    <tr>\n",
       "      <th>std</th>\n",
       "      <td>3.698449e-02</td>\n",
       "    </tr>\n",
       "    <tr>\n",
       "      <th>min</th>\n",
       "      <td>7.681324e-11</td>\n",
       "    </tr>\n",
       "    <tr>\n",
       "      <th>25%</th>\n",
       "      <td>2.405187e-03</td>\n",
       "    </tr>\n",
       "    <tr>\n",
       "      <th>50%</th>\n",
       "      <td>1.317937e-02</td>\n",
       "    </tr>\n",
       "    <tr>\n",
       "      <th>75%</th>\n",
       "      <td>3.525209e-02</td>\n",
       "    </tr>\n",
       "    <tr>\n",
       "      <th>max</th>\n",
       "      <td>6.794721e-01</td>\n",
       "    </tr>\n",
       "  </tbody>\n",
       "</table>\n",
       "</div>"
      ],
      "text/plain": [
       "                  0\n",
       "count  3.321748e+06\n",
       "mean   2.609698e-02\n",
       "std    3.698449e-02\n",
       "min    7.681324e-11\n",
       "25%    2.405187e-03\n",
       "50%    1.317937e-02\n",
       "75%    3.525209e-02\n",
       "max    6.794721e-01"
      ]
     },
     "execution_count": 59,
     "metadata": {},
     "output_type": "execute_result"
    }
   ],
   "source": [
    "print('end bagging')\n",
    "res=res/5.0\n",
    "pd.DataFrame(res).describe()"
   ]
  },
  {
   "cell_type": "code",
   "execution_count": 61,
   "metadata": {
    "collapsed": false
   },
   "outputs": [],
   "source": [
    "result = pd.read_csv('../result/demo_result.csv',index_col=['instanceID'])\n",
    "result['prob'] = res\n",
    "# result['prob'] = result['prob'].apply(adj)\n",
    "result.to_csv('../result/submission_mlp.csv')"
   ]
  },
  {
   "cell_type": "code",
   "execution_count": null,
   "metadata": {
    "collapsed": true
   },
   "outputs": [],
   "source": []
  }
 ],
 "metadata": {
  "kernelspec": {
   "display_name": "Python 3",
   "language": "python",
   "name": "python3"
  },
  "language_info": {
   "codemirror_mode": {
    "name": "ipython",
    "version": 3
   },
   "file_extension": ".py",
   "mimetype": "text/x-python",
   "name": "python",
   "nbconvert_exporter": "python",
   "pygments_lexer": "ipython3",
   "version": "3.6.0"
  }
 },
 "nbformat": 4,
 "nbformat_minor": 2
}
