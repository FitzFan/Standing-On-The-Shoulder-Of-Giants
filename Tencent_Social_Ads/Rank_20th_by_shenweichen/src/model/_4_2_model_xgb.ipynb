{
 "cells": [
  {
   "cell_type": "code",
   "execution_count": 7,
   "metadata": {
    "collapsed": false
   },
   "outputs": [],
   "source": [
    "import os\n",
    "import zipfile\n",
    "import time\n",
    "import pickle\n",
    "import gc\n",
    "\n",
    "import pandas as pd\n",
    "import numpy as np\n",
    "from tqdm import tqdm\n",
    "from sklearn.metrics import log_loss\n",
    "from lightgbm import LGBMClassifier\n",
    "import  xgboost as xgb\n",
    "import lightgbm as lgb\n",
    "\n",
    "from _2_7_gen_trick_final import add_click_trick\n",
    "from _3_0_gen_final_data import gen_offline_data,gen_online_data\n",
    "from utils import load_pickle,dump_pickle,get_feature_value,feature_spearmanr,feature_target_spearmanr,addCrossFeature,calibration\n",
    "from utils import raw_data_path,feature_data_path,cache_pkl_path,result_path,analyse\n",
    "\n",
    "%matplotlib inline"
   ]
  },
  {
   "cell_type": "markdown",
   "metadata": {},
   "source": [
    "# XGB 4天"
   ]
  },
  {
   "cell_type": "code",
   "execution_count": 3,
   "metadata": {
    "collapsed": false,
    "scrolled": true
   },
   "outputs": [
    {
     "name": "stdout",
     "output_type": "stream",
     "text": [
      "found ../cache_pkl/online_train_x_25_29.pkl\n",
      "found ../cache_pkl/online_test_x_31_31.pkl\n"
     ]
    },
    {
     "name": "stderr",
     "output_type": "stream",
     "text": [
      "100%|██████████| 5/5 [00:00<00:00, 52.87it/s]\n",
      "100%|██████████| 5/5 [00:00<00:00, 81.07it/s]\n"
     ]
    }
   ],
   "source": [
    "train_x,test_x = gen_online_data(25,29,31)"
   ]
  },
  {
   "cell_type": "code",
   "execution_count": 4,
   "metadata": {
    "collapsed": false
   },
   "outputs": [
    {
     "name": "stdout",
     "output_type": "stream",
     "text": [
      "110\n"
     ]
    }
   ],
   "source": [
    "feature_group_A = ['creativeID', 'userID',\n",
    "       'positionID', 'connectionType', 'telecomsOperator', 'age', 'gender',\n",
    "       'education', 'marriageStatus', 'haveBaby', 'ht_province',\n",
    "       'rd_province', 'sitesetID', 'positionType', 'adID',\n",
    "       'camgaignID', 'advertiserID', 'appID', 'appPlatform',\n",
    "     # 'user_start_install_cate_0',\n",
    "                 'user_start_install_cate_1',\n",
    "       'user_start_install_cate_2', 'user_start_install_cate_3',\n",
    "       'user_start_install_cate_4', 'user_start_install_cate_5',\n",
    "                 \n",
    "       'appCategory', 'trick', 'first_diff', 'last_diff', 'user_hist_install', 'clickHour',\n",
    "        'user_adID_click_day', 'user_adID_click_hour',\n",
    "       'user_camgaignID_click_day', 'user_camgaignID_click_hour',\n",
    "       'user_appID_click_day', 'user_appID_click_hour',\n",
    "\n",
    "                 \n",
    "                 'user_sitesetID_click_day',\n",
    "       'user_sitesetID_click_hour', 'user_click_day',\n",
    "                 \n",
    "        'positionID_cvr_smooth','creativeID_cvr','userID_cvr','adID_cvr','appID_cvr',\n",
    "     'positionID_sum_count', 'creativeID_sum_count', 'appID_sum_count',\n",
    "       'adID_sum_count', 'userID_sum_count',\n",
    "        'user_adID_click_day_mean', 'user_adID_click_day_min',\n",
    "       'user_camgaignID_click_day_min', 'user_appID_click_day_mean',\n",
    "       'user_appID_click_day_max', 'user_appID_click_day_min',\n",
    "       'user_sitesetID_click_day_mean', 'user_sitesetID_click_day_max',\n",
    "       'user_sitesetID_click_day_min', 'user_click_day_mean', 'user_click_day_max','user_click_day_min',\n",
    "        'advertiserID_user_clicks_age_cut_0',\n",
    "       'advertiserID_user_clicks_age_cut_1',\n",
    "       'advertiserID_user_clicks_age_cut_2',\n",
    "       'advertiserID_user_clicks_age_cut_3',\n",
    "       'advertiserID_user_clicks_age_cut_4',\n",
    "       'advertiserID_user_clicks_age_cut_5',\n",
    "       'advertiserID_user_clicks_age_cut_6',\n",
    "     # 'advertiserID_user_clicks_age_cut_7',\n",
    "       'advertiserID_user_clicks_gender_0',\n",
    "       'advertiserID_user_clicks_gender_1',\n",
    "       'advertiserID_user_clicks_gender_2',\n",
    "       'advertiserID_user_clicks_education_0',\n",
    "       'advertiserID_user_clicks_education_1',\n",
    "       'advertiserID_user_clicks_education_2',\n",
    "       'advertiserID_user_clicks_education_3',\n",
    "       'advertiserID_user_clicks_education_4',\n",
    "       'advertiserID_user_clicks_education_5',\n",
    "       'advertiserID_user_clicks_education_6',\n",
    "      # 'advertiserID_user_clicks_education_7',\n",
    "       'advertiserID_user_clicks_marriageStatus_0',\n",
    "       'advertiserID_user_clicks_marriageStatus_1',\n",
    "       'advertiserID_user_clicks_marriageStatus_2',\n",
    "       'advertiserID_user_clicks_marriageStatus_3',\n",
    "        \n",
    "       'appID_user_clicks_age_cut_0', 'appID_user_clicks_age_cut_1',\n",
    "       'appID_user_clicks_age_cut_2', 'appID_user_clicks_age_cut_3',\n",
    "       'appID_user_clicks_age_cut_4', 'appID_user_clicks_age_cut_5',\n",
    "       'appID_user_clicks_age_cut_6',\n",
    "                   #'appID_user_clicks_age_cut_7',\n",
    "       'appID_user_clicks_gender_0', 'appID_user_clicks_gender_1',\n",
    "       'appID_user_clicks_gender_2', 'appID_user_clicks_education_0',\n",
    "       'appID_user_clicks_education_1', 'appID_user_clicks_education_2',\n",
    "       'appID_user_clicks_education_3', 'appID_user_clicks_education_4',\n",
    "       'appID_user_clicks_education_5', 'appID_user_clicks_education_6',\n",
    "       #'appID_user_clicks_education_7',\n",
    "                   'appID_user_clicks_marriageStatus_0',\n",
    "       'appID_user_clicks_marriageStatus_1',\n",
    "       'appID_user_clicks_marriageStatus_2',\n",
    "       'appID_user_clicks_marriageStatus_3', \n",
    "                 'appID_user_clicks_haveBaby_0',\n",
    "       'appID_user_clicks_haveBaby_1', 'appID_user_clicks_haveBaby_2',\n",
    "       'appID_user_clicks_haveBaby_3', 'appID_user_clicks_haveBaby_4',\n",
    "       'appID_user_clicks_haveBaby_5', 'appID_user_clicks_haveBaby_6',]\n",
    "print(len(feature_group_A))"
   ]
  },
  {
   "cell_type": "code",
   "execution_count": 8,
   "metadata": {
    "collapsed": false
   },
   "outputs": [
    {
     "name": "stdout",
     "output_type": "stream",
     "text": [
      "[0]\ttrain-logloss:0.607525\tval-logloss:0.607525\n",
      "Multiple eval metrics have been passed: 'val-logloss' will be used for early stopping.\n",
      "\n",
      "Will train until val-logloss hasn't improved in 20 rounds.\n",
      "[10]\ttrain-logloss:0.233962\tval-logloss:0.233962\n",
      "[20]\ttrain-logloss:0.140512\tval-logloss:0.140512\n",
      "[30]\ttrain-logloss:0.113366\tval-logloss:0.113366\n",
      "[40]\ttrain-logloss:0.105151\tval-logloss:0.105151\n",
      "[50]\ttrain-logloss:0.102319\tval-logloss:0.102319\n",
      "[60]\ttrain-logloss:0.101126\tval-logloss:0.101126\n",
      "[70]\ttrain-logloss:0.100514\tval-logloss:0.100514\n",
      "[80]\ttrain-logloss:0.100097\tval-logloss:0.100097\n",
      "[90]\ttrain-logloss:0.099682\tval-logloss:0.099682\n",
      "[100]\ttrain-logloss:0.099335\tval-logloss:0.099335\n",
      "[110]\ttrain-logloss:0.099018\tval-logloss:0.099018\n",
      "[120]\ttrain-logloss:0.098783\tval-logloss:0.098783\n",
      "[130]\ttrain-logloss:0.098588\tval-logloss:0.098588\n"
     ]
    }
   ],
   "source": [
    "dtrain = xgb.DMatrix(train_x.loc[train_x.clickDay>=26,feature_group_A].values, train_x.loc[train_x.clickDay>=26,'label'].values, feature_names=feature_group_A)\n",
    "del train_x\n",
    "dtest=xgb.DMatrix(test_x[feature_group_A].values,feature_names=feature_group_A)\n",
    "del test_x\n",
    "watchlist = [(dtrain, 'train'), (dtrain, 'val')]\n",
    "params={\n",
    "    'max_depth':8,\n",
    "    'nthread':25,\n",
    "    'eta':0.1,\n",
    "    'eval_metric':'logloss',\n",
    "    'objective':'binary:logistic',\n",
    "    'subsample':0.7,\n",
    "    'colsample_bytree':0.5,\n",
    "    'silent':1,\n",
    "    'seed':1123,\n",
    "    'min_child_weight':10\n",
    "    #'scale_pos_weight':0.5\n",
    "}\n",
    "\n",
    "xgb_a=xgb.train(params,dtrain,\n",
    "              num_boost_round=140,\n",
    "              early_stopping_rounds=20,\n",
    "              evals=watchlist,\n",
    "              verbose_eval=10)\n",
    "del dtrain\n",
    "xgb_a_ans = xgb_a.predict(dtest)\n",
    "del dtest"
   ]
  },
  {
   "cell_type": "markdown",
   "metadata": {},
   "source": [
    "# XGB 5天"
   ]
  },
  {
   "cell_type": "code",
   "execution_count": 9,
   "metadata": {
    "collapsed": true
   },
   "outputs": [],
   "source": [
    "feature_group_B= [#'creativeID', 'userID',\n",
    "                 'positionID', 'connectionType', 'telecomsOperator', 'age', 'gender',\n",
    "                 'education', 'marriageStatus', 'haveBaby', 'ht_province',\n",
    "                 'rd_province', 'sitesetID', 'positionType', 'adID',\n",
    "                 'camgaignID', 'advertiserID', 'appID', 'appPlatform',\n",
    "                 # 'user_start_install_cate_0',\n",
    "                 'user_start_install_cate_1',\n",
    "                 'user_start_install_cate_2', 'user_start_install_cate_3',\n",
    "                 'user_start_install_cate_4', 'user_start_install_cate_5',\n",
    "\n",
    "                 'appCategory', 'trick', 'first_diff', 'last_diff', 'user_hist_install', 'clickHour',\n",
    "                 'user_adID_click_day', 'user_adID_click_hour',\n",
    "                 'user_camgaignID_click_day', 'user_camgaignID_click_hour',\n",
    "                 'user_appID_click_day', 'user_appID_click_hour',\n",
    "\n",
    "                 'user_sitesetID_click_day',\n",
    "                 'user_sitesetID_click_hour', 'user_click_day',\n",
    "\n",
    "                 'positionID_cvr_smooth', 'creativeID_cvr', 'userID_cvr', 'adID_cvr', 'appID_cvr',\n",
    "                 'positionID_sum_count', 'creativeID_sum_count', 'appID_sum_count',\n",
    "                 'adID_sum_count', 'userID_sum_count',\n",
    "                 'user_adID_click_day_mean', 'user_adID_click_day_min',\n",
    "                 'user_camgaignID_click_day_min', 'user_appID_click_day_mean',\n",
    "                 'user_appID_click_day_max', 'user_appID_click_day_min',\n",
    "                 'user_sitesetID_click_day_mean', 'user_sitesetID_click_day_max',\n",
    "                 'user_sitesetID_click_day_min', 'user_click_day_mean', 'user_click_day_max', 'user_click_day_min',\n",
    "                 'advertiserID_user_clicks_age_cut_0',\n",
    "                 'advertiserID_user_clicks_age_cut_1',\n",
    "                 'advertiserID_user_clicks_age_cut_2',\n",
    "                 'advertiserID_user_clicks_age_cut_3',\n",
    "                 'advertiserID_user_clicks_age_cut_4',\n",
    "                 'advertiserID_user_clicks_age_cut_5',\n",
    "                 'advertiserID_user_clicks_age_cut_6',\n",
    "                 #'advertiserID_user_clicks_age_cut_7',\n",
    "                 'advertiserID_user_clicks_gender_0',\n",
    "                 'advertiserID_user_clicks_gender_1',\n",
    "                 'advertiserID_user_clicks_gender_2',\n",
    "                 'advertiserID_user_clicks_education_0',\n",
    "                 'advertiserID_user_clicks_education_1',\n",
    "                 'advertiserID_user_clicks_education_2',\n",
    "                 'advertiserID_user_clicks_education_3',\n",
    "                 'advertiserID_user_clicks_education_4',\n",
    "                 'advertiserID_user_clicks_education_5',\n",
    "                 'advertiserID_user_clicks_education_6',\n",
    "                # 'advertiserID_user_clicks_education_7',\n",
    "                 'advertiserID_user_clicks_marriageStatus_0',\n",
    "                 'advertiserID_user_clicks_marriageStatus_1',\n",
    "                 'advertiserID_user_clicks_marriageStatus_2',\n",
    "                 'advertiserID_user_clicks_marriageStatus_3',\n",
    "\n",
    "                 'appID_user_clicks_age_cut_0', 'appID_user_clicks_age_cut_1',\n",
    "                 'appID_user_clicks_age_cut_2', 'appID_user_clicks_age_cut_3',\n",
    "                 'appID_user_clicks_age_cut_4', 'appID_user_clicks_age_cut_5',\n",
    "                 'appID_user_clicks_age_cut_6',\n",
    "    #'appID_user_clicks_age_cut_7',\n",
    "                 'appID_user_clicks_gender_0', 'appID_user_clicks_gender_1',\n",
    "                 'appID_user_clicks_gender_2', 'appID_user_clicks_education_0',\n",
    "                 'appID_user_clicks_education_1', 'appID_user_clicks_education_2',\n",
    "                 'appID_user_clicks_education_3', 'appID_user_clicks_education_4',\n",
    "                 'appID_user_clicks_education_5', 'appID_user_clicks_education_6',\n",
    "                # 'appID_user_clicks_education_7',\n",
    "    'appID_user_clicks_marriageStatus_0',\n",
    "                 'appID_user_clicks_marriageStatus_1',\n",
    "                 'appID_user_clicks_marriageStatus_2',\n",
    "                 'appID_user_clicks_marriageStatus_3',\n",
    "                 'appID_user_clicks_haveBaby_0',\n",
    "                 'appID_user_clicks_haveBaby_1', 'appID_user_clicks_haveBaby_2',\n",
    "                 'appID_user_clicks_haveBaby_3', 'appID_user_clicks_haveBaby_4',\n",
    "                 'appID_user_clicks_haveBaby_5', 'appID_user_clicks_haveBaby_6','install2click']"
   ]
  },
  {
   "cell_type": "code",
   "execution_count": 10,
   "metadata": {
    "collapsed": true
   },
   "outputs": [
    {
     "ename": "NameError",
     "evalue": "name 'train_x' is not defined",
     "output_type": "error",
     "traceback": [
      "\u001b[0;31m---------------------------------------------------------------------------\u001b[0m",
      "\u001b[0;31mNameError\u001b[0m                                 Traceback (most recent call last)",
      "\u001b[0;32m<ipython-input-10-d9b76bccff02>\u001b[0m in \u001b[0;36m<module>\u001b[0;34m()\u001b[0m\n\u001b[0;32m----> 1\u001b[0;31m \u001b[0mX_train\u001b[0m \u001b[0;34m=\u001b[0m \u001b[0mtrain_x\u001b[0m\u001b[0;34m[\u001b[0m\u001b[0mfeature_group_A\u001b[0m\u001b[0;34m]\u001b[0m\u001b[0;34m.\u001b[0m\u001b[0mvalues\u001b[0m\u001b[0;34m\u001b[0m\u001b[0m\n\u001b[0m\u001b[1;32m      2\u001b[0m \u001b[0mX_test\u001b[0m \u001b[0;34m=\u001b[0m \u001b[0mtest_x\u001b[0m\u001b[0;34m[\u001b[0m\u001b[0mfeature_group_B\u001b[0m\u001b[0;34m]\u001b[0m\u001b[0;34m.\u001b[0m\u001b[0mvalues\u001b[0m\u001b[0;34m\u001b[0m\u001b[0m\n\u001b[1;32m      3\u001b[0m \u001b[0my\u001b[0m \u001b[0;34m=\u001b[0m \u001b[0mtrain_x\u001b[0m\u001b[0;34m[\u001b[0m\u001b[0;34m'label'\u001b[0m\u001b[0;34m]\u001b[0m\u001b[0;34m.\u001b[0m\u001b[0mvalues\u001b[0m\u001b[0;34m\u001b[0m\u001b[0m\n\u001b[1;32m      4\u001b[0m \u001b[0;32mdel\u001b[0m \u001b[0mtrain_x\u001b[0m\u001b[0;34m,\u001b[0m\u001b[0mtest_x\u001b[0m\u001b[0;34m\u001b[0m\u001b[0m\n\u001b[1;32m      5\u001b[0m \u001b[0;34m\u001b[0m\u001b[0m\n",
      "\u001b[0;31mNameError\u001b[0m: name 'train_x' is not defined"
     ]
    }
   ],
   "source": [
    "X_train = train_x[feature_group_A].values\n",
    "X_test = test_x[feature_group_B].values\n",
    "y = train_x['label'].values\n",
    "del train_x,test_x\n",
    "\n",
    "params={\n",
    "    'max_depth':10,\n",
    "    'nthread':25,\n",
    "    'eta':0.1,\n",
    "    'eval_metric':'logloss',\n",
    "    'objective':'binary:logistic',\n",
    "    'subsample':0.8,\n",
    "    'colsample_bytree':0.7,\n",
    "    'silent':1,\n",
    "    'seed':1123,\n",
    "    'min_child_weight':10\n",
    "    #'scale_pos_weight':0.5\n",
    "}\n",
    "\n",
    "dtrain = xgb.DMatrix(X_train, y)\n",
    "watchlist = [(dtrain, 'train'), ]\n",
    "\n",
    "xgb_b = xgb.train(params, dtrain,\n",
    "                num_boost_round=350,\n",
    "                early_stopping_rounds=20,\n",
    "                evals=watchlist,\n",
    "                verbose_eval=10)\n",
    "\n",
    "dtest = xgb.DMatrix(X_test)\n",
    "xgb_b_ans = xgb_b.predict(dtest)"
   ]
  },
  {
   "cell_type": "code",
   "execution_count": null,
   "metadata": {
    "collapsed": true
   },
   "outputs": [],
   "source": [
    "xgb_result = xgb_b_ans * 0.6 + xgb_a_ans * 0.4\n",
    "result = pd.read_csv('../result/demo_result.csv',index_col=['instanceID'])\n",
    "result['prob'] = xgb_result\n",
    "result.to_csv(result_path+'submission_xgb.csv')"
   ]
  },
  {
   "cell_type": "code",
   "execution_count": null,
   "metadata": {
    "collapsed": true
   },
   "outputs": [],
   "source": []
  }
 ],
 "metadata": {
  "kernelspec": {
   "display_name": "Python 3",
   "language": "python",
   "name": "python3"
  },
  "language_info": {
   "codemirror_mode": {
    "name": "ipython",
    "version": 3
   },
   "file_extension": ".py",
   "mimetype": "text/x-python",
   "name": "python",
   "nbconvert_exporter": "python",
   "pygments_lexer": "ipython3",
   "version": "3.6.0"
  }
 },
 "nbformat": 4,
 "nbformat_minor": 2
}
